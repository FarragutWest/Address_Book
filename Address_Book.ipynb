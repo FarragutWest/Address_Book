{
 "cells": [
  {
   "cell_type": "code",
   "execution_count": null,
   "metadata": {},
   "outputs": [],
   "source": [
    "addressBook = {'contact' : {'name' : 'Blah Blah', 'phone' : 'phoneNumber', 'address' : 'contact_address','email':'contact_email'}}\n",
    " \n",
    "def addPerson():\n",
    "    nickname = input('Type a nickname for the contact\\n - ')\n",
    "    name = input('Type their full name\\n - ')\n",
    "    phone = input('Type their phone number\\n - ')\n",
    "    address = input('Type their address\\n - ')\n",
    "    email = input('Type their e-mail\\n - ')\n",
    "    add = False\n",
    "    for i in addressBook:\n",
    "        if i.lower() == name.lower():\n",
    "            print('Name already there')\n",
    "        elif addressBook[i]['name'].lower() == name.lower():\n",
    "            print('Name already there')\n",
    "        else:\n",
    "            add = True\n",
    "    if add:\n",
    "        addressBook.update({nickname : {'name' : name, 'phone' : phone, 'address' : address,'email' : email}})\n",
    " \n",
    "def indexPerson():\n",
    "    name = input('Type the person\\'s name or nickname\\n - ')\n",
    "    for i in addressBook:\n",
    "        if i.lower() == name.lower() or addressBook[i]['name'].lower() == name.lower():\n",
    "            print('\\nName: %s\\nPhone Number: %s\\nAddress: %s\\n' %(addressBook[i]['name'], addressBook[i]['phone'], addressBook[i]['address'],addressBook[i]['email']))\n",
    "        else:\n",
    "            print('Name not found')\n",
    "         \n",
    "def yesNo():\n",
    "    yesNo = input('Would you like to add a person to the address book y/n \\n - ')\n",
    "    if yesNo == 'n':\n",
    "        indexPerson()\n",
    "    elif yesNo == 'y':\n",
    "        addPerson()\n",
    "    else:\n",
    "        print('Invalid response')\n",
    " \n",
    " \n",
    "def main():\n",
    "    while True:\n",
    "        yesNo()\n",
    "        Quit = input('Would you like to quit y/n \\n - ')\n",
    "        if Quit == 'n':\n",
    "            pass\n",
    "        elif Quit == 'y':\n",
    "            break\n",
    "        else:\n",
    "            print('Invalid response')\n",
    " \n",
    "main()\n",
    "quit()"
   ]
  }
 ],
 "metadata": {
  "kernelspec": {
   "display_name": "Python 3",
   "language": "python",
   "name": "python3"
  },
  "language_info": {
   "codemirror_mode": {
    "name": "ipython",
    "version": 3
   },
   "file_extension": ".py",
   "mimetype": "text/x-python",
   "name": "python",
   "nbconvert_exporter": "python",
   "pygments_lexer": "ipython3",
   "version": "3.7.6"
  }
 },
 "nbformat": 4,
 "nbformat_minor": 4
}
